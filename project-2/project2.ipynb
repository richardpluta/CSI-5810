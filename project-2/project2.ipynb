{
 "cells": [
  {
   "cell_type": "code",
   "execution_count": 1,
   "metadata": {},
   "outputs": [],
   "source": [
    "import requests \n",
    "import re\n",
    "import time\n",
    "import pandas as pd\n",
    "import numpy as np\n",
    "import sklearn as skl\n",
    "import matplotlib.pyplot as plt\n",
    "import fasttext\n",
    "from sklearn import preprocessing\n",
    "from bs4 import BeautifulSoup\n",
    "from nltk.corpus import stopwords"
   ]
  },
  {
   "cell_type": "markdown",
   "metadata": {},
   "source": [
    "# Data Collection\n",
    "\n",
    "Review:\n",
    "- rating\n",
    "- review\n",
    "- displayName\n",
    "- displayImageUrl\n",
    "- isVerified\n",
    "- isSuperReviewer\n",
    "- createDate\n",
    "- updateDate\n",
    "- user\n",
    "- score\n",
    "- timeFromCreation"
   ]
  },
  {
   "cell_type": "code",
   "execution_count": 2,
   "metadata": {},
   "outputs": [
    {
     "name": "stdout",
     "output_type": "stream",
     "text": [
      "Encountered error with web request: <Response [403]> b'<HTML><HEAD>\\n<TITLE>Access Denied</TITLE>\\n</HEAD><BODY>\\n<H1>Access Denied</H1>\\n \\nYou don\\'t have permission to access \"http&#58;&#47;&#47;www&#46;rottentomatoes&#46;com&#47;napi&#47;movie&#47;f93fd0e2&#45;42cf&#45;3425&#45;86a4&#45;96090ed8ec13&#47;reviews&#47;user&#63;\" on this server.<P>\\nReference&#32;&#35;18&#46;56472317&#46;1638376593&#46;294f5b4\\n</BODY>\\n</HTML>\\n'\n"
     ]
    },
    {
     "ename": "JSONDecodeError",
     "evalue": "Expecting value: line 1 column 1 (char 0)",
     "output_type": "error",
     "traceback": [
      "\u001b[0;31m---------------------------------------------------------------------------\u001b[0m",
      "\u001b[0;31mJSONDecodeError\u001b[0m                           Traceback (most recent call last)",
      "\u001b[0;32m/tmp/ipykernel_18924/3448898010.py\u001b[0m in \u001b[0;36m<module>\u001b[0;34m\u001b[0m\n\u001b[1;32m     24\u001b[0m \u001b[0mendCursor\u001b[0m \u001b[0;34m=\u001b[0m \u001b[0;34m\"\"\u001b[0m\u001b[0;34m\u001b[0m\u001b[0;34m\u001b[0m\u001b[0m\n\u001b[1;32m     25\u001b[0m \u001b[0;32mfor\u001b[0m \u001b[0mi\u001b[0m \u001b[0;32min\u001b[0m \u001b[0mrange\u001b[0m\u001b[0;34m(\u001b[0m\u001b[0mpageCount\u001b[0m\u001b[0;34m)\u001b[0m\u001b[0;34m:\u001b[0m\u001b[0;34m\u001b[0m\u001b[0;34m\u001b[0m\u001b[0m\n\u001b[0;32m---> 26\u001b[0;31m     \u001b[0mpage\u001b[0m \u001b[0;34m=\u001b[0m \u001b[0mgetReviewPage\u001b[0m\u001b[0;34m(\u001b[0m\u001b[0mendCursor\u001b[0m\u001b[0;34m)\u001b[0m\u001b[0;34m\u001b[0m\u001b[0;34m\u001b[0m\u001b[0m\n\u001b[0m\u001b[1;32m     27\u001b[0m     \u001b[0mreviews\u001b[0m\u001b[0;34m.\u001b[0m\u001b[0mextend\u001b[0m\u001b[0;34m(\u001b[0m\u001b[0;34m[\u001b[0m\u001b[0mextractReview\u001b[0m\u001b[0;34m(\u001b[0m\u001b[0mreview\u001b[0m\u001b[0;34m)\u001b[0m \u001b[0;32mfor\u001b[0m \u001b[0mreview\u001b[0m \u001b[0;32min\u001b[0m \u001b[0mpage\u001b[0m\u001b[0;34m[\u001b[0m\u001b[0;34m\"reviews\"\u001b[0m\u001b[0;34m]\u001b[0m\u001b[0;34m]\u001b[0m\u001b[0;34m)\u001b[0m\u001b[0;34m\u001b[0m\u001b[0;34m\u001b[0m\u001b[0m\n\u001b[1;32m     28\u001b[0m     \u001b[0mendCursor\u001b[0m \u001b[0;34m=\u001b[0m \u001b[0mpage\u001b[0m\u001b[0;34m[\u001b[0m\u001b[0;34m\"pageInfo\"\u001b[0m\u001b[0;34m]\u001b[0m\u001b[0;34m[\u001b[0m\u001b[0;34m\"endCursor\"\u001b[0m\u001b[0;34m]\u001b[0m\u001b[0;34m\u001b[0m\u001b[0;34m\u001b[0m\u001b[0m\n",
      "\u001b[0;32m/tmp/ipykernel_18924/3448898010.py\u001b[0m in \u001b[0;36mgetReviewPage\u001b[0;34m(endCursor)\u001b[0m\n\u001b[1;32m      8\u001b[0m     \u001b[0;32mif\u001b[0m \u001b[0mpage\u001b[0m\u001b[0;34m.\u001b[0m\u001b[0mstatus_code\u001b[0m \u001b[0;34m!=\u001b[0m \u001b[0;36m200\u001b[0m\u001b[0;34m:\u001b[0m\u001b[0;34m\u001b[0m\u001b[0;34m\u001b[0m\u001b[0m\n\u001b[1;32m      9\u001b[0m         \u001b[0mprint\u001b[0m\u001b[0;34m(\u001b[0m\u001b[0;34mf\"Encountered error with web request: {page} {page.content}\"\u001b[0m\u001b[0;34m)\u001b[0m\u001b[0;34m\u001b[0m\u001b[0;34m\u001b[0m\u001b[0m\n\u001b[0;32m---> 10\u001b[0;31m     \u001b[0;32mreturn\u001b[0m \u001b[0mpage\u001b[0m\u001b[0;34m.\u001b[0m\u001b[0mjson\u001b[0m\u001b[0;34m(\u001b[0m\u001b[0;34m)\u001b[0m\u001b[0;34m\u001b[0m\u001b[0;34m\u001b[0m\u001b[0m\n\u001b[0m\u001b[1;32m     11\u001b[0m \u001b[0;34m\u001b[0m\u001b[0m\n\u001b[1;32m     12\u001b[0m \u001b[0;32mdef\u001b[0m \u001b[0mextractReview\u001b[0m\u001b[0;34m(\u001b[0m\u001b[0mreviewDict\u001b[0m\u001b[0;34m)\u001b[0m\u001b[0;34m:\u001b[0m\u001b[0;34m\u001b[0m\u001b[0;34m\u001b[0m\u001b[0m\n",
      "\u001b[0;32m~/.local/lib/python3.7/site-packages/requests/models.py\u001b[0m in \u001b[0;36mjson\u001b[0;34m(self, **kwargs)\u001b[0m\n\u001b[1;32m    908\u001b[0m                     \u001b[0;31m# used.\u001b[0m\u001b[0;34m\u001b[0m\u001b[0;34m\u001b[0m\u001b[0;34m\u001b[0m\u001b[0m\n\u001b[1;32m    909\u001b[0m                     \u001b[0;32mpass\u001b[0m\u001b[0;34m\u001b[0m\u001b[0;34m\u001b[0m\u001b[0m\n\u001b[0;32m--> 910\u001b[0;31m         \u001b[0;32mreturn\u001b[0m \u001b[0mcomplexjson\u001b[0m\u001b[0;34m.\u001b[0m\u001b[0mloads\u001b[0m\u001b[0;34m(\u001b[0m\u001b[0mself\u001b[0m\u001b[0;34m.\u001b[0m\u001b[0mtext\u001b[0m\u001b[0;34m,\u001b[0m \u001b[0;34m**\u001b[0m\u001b[0mkwargs\u001b[0m\u001b[0;34m)\u001b[0m\u001b[0;34m\u001b[0m\u001b[0;34m\u001b[0m\u001b[0m\n\u001b[0m\u001b[1;32m    911\u001b[0m \u001b[0;34m\u001b[0m\u001b[0m\n\u001b[1;32m    912\u001b[0m     \u001b[0;34m@\u001b[0m\u001b[0mproperty\u001b[0m\u001b[0;34m\u001b[0m\u001b[0;34m\u001b[0m\u001b[0m\n",
      "\u001b[0;32m/usr/lib/python3.7/json/__init__.py\u001b[0m in \u001b[0;36mloads\u001b[0;34m(s, encoding, cls, object_hook, parse_float, parse_int, parse_constant, object_pairs_hook, **kw)\u001b[0m\n\u001b[1;32m    346\u001b[0m             \u001b[0mparse_int\u001b[0m \u001b[0;32mis\u001b[0m \u001b[0;32mNone\u001b[0m \u001b[0;32mand\u001b[0m \u001b[0mparse_float\u001b[0m \u001b[0;32mis\u001b[0m \u001b[0;32mNone\u001b[0m \u001b[0;32mand\u001b[0m\u001b[0;34m\u001b[0m\u001b[0;34m\u001b[0m\u001b[0m\n\u001b[1;32m    347\u001b[0m             parse_constant is None and object_pairs_hook is None and not kw):\n\u001b[0;32m--> 348\u001b[0;31m         \u001b[0;32mreturn\u001b[0m \u001b[0m_default_decoder\u001b[0m\u001b[0;34m.\u001b[0m\u001b[0mdecode\u001b[0m\u001b[0;34m(\u001b[0m\u001b[0ms\u001b[0m\u001b[0;34m)\u001b[0m\u001b[0;34m\u001b[0m\u001b[0;34m\u001b[0m\u001b[0m\n\u001b[0m\u001b[1;32m    349\u001b[0m     \u001b[0;32mif\u001b[0m \u001b[0mcls\u001b[0m \u001b[0;32mis\u001b[0m \u001b[0;32mNone\u001b[0m\u001b[0;34m:\u001b[0m\u001b[0;34m\u001b[0m\u001b[0;34m\u001b[0m\u001b[0m\n\u001b[1;32m    350\u001b[0m         \u001b[0mcls\u001b[0m \u001b[0;34m=\u001b[0m \u001b[0mJSONDecoder\u001b[0m\u001b[0;34m\u001b[0m\u001b[0;34m\u001b[0m\u001b[0m\n",
      "\u001b[0;32m/usr/lib/python3.7/json/decoder.py\u001b[0m in \u001b[0;36mdecode\u001b[0;34m(self, s, _w)\u001b[0m\n\u001b[1;32m    335\u001b[0m \u001b[0;34m\u001b[0m\u001b[0m\n\u001b[1;32m    336\u001b[0m         \"\"\"\n\u001b[0;32m--> 337\u001b[0;31m         \u001b[0mobj\u001b[0m\u001b[0;34m,\u001b[0m \u001b[0mend\u001b[0m \u001b[0;34m=\u001b[0m \u001b[0mself\u001b[0m\u001b[0;34m.\u001b[0m\u001b[0mraw_decode\u001b[0m\u001b[0;34m(\u001b[0m\u001b[0ms\u001b[0m\u001b[0;34m,\u001b[0m \u001b[0midx\u001b[0m\u001b[0;34m=\u001b[0m\u001b[0m_w\u001b[0m\u001b[0;34m(\u001b[0m\u001b[0ms\u001b[0m\u001b[0;34m,\u001b[0m \u001b[0;36m0\u001b[0m\u001b[0;34m)\u001b[0m\u001b[0;34m.\u001b[0m\u001b[0mend\u001b[0m\u001b[0;34m(\u001b[0m\u001b[0;34m)\u001b[0m\u001b[0;34m)\u001b[0m\u001b[0;34m\u001b[0m\u001b[0;34m\u001b[0m\u001b[0m\n\u001b[0m\u001b[1;32m    338\u001b[0m         \u001b[0mend\u001b[0m \u001b[0;34m=\u001b[0m \u001b[0m_w\u001b[0m\u001b[0;34m(\u001b[0m\u001b[0ms\u001b[0m\u001b[0;34m,\u001b[0m \u001b[0mend\u001b[0m\u001b[0;34m)\u001b[0m\u001b[0;34m.\u001b[0m\u001b[0mend\u001b[0m\u001b[0;34m(\u001b[0m\u001b[0;34m)\u001b[0m\u001b[0;34m\u001b[0m\u001b[0;34m\u001b[0m\u001b[0m\n\u001b[1;32m    339\u001b[0m         \u001b[0;32mif\u001b[0m \u001b[0mend\u001b[0m \u001b[0;34m!=\u001b[0m \u001b[0mlen\u001b[0m\u001b[0;34m(\u001b[0m\u001b[0ms\u001b[0m\u001b[0;34m)\u001b[0m\u001b[0;34m:\u001b[0m\u001b[0;34m\u001b[0m\u001b[0;34m\u001b[0m\u001b[0m\n",
      "\u001b[0;32m/usr/lib/python3.7/json/decoder.py\u001b[0m in \u001b[0;36mraw_decode\u001b[0;34m(self, s, idx)\u001b[0m\n\u001b[1;32m    353\u001b[0m             \u001b[0mobj\u001b[0m\u001b[0;34m,\u001b[0m \u001b[0mend\u001b[0m \u001b[0;34m=\u001b[0m \u001b[0mself\u001b[0m\u001b[0;34m.\u001b[0m\u001b[0mscan_once\u001b[0m\u001b[0;34m(\u001b[0m\u001b[0ms\u001b[0m\u001b[0;34m,\u001b[0m \u001b[0midx\u001b[0m\u001b[0;34m)\u001b[0m\u001b[0;34m\u001b[0m\u001b[0;34m\u001b[0m\u001b[0m\n\u001b[1;32m    354\u001b[0m         \u001b[0;32mexcept\u001b[0m \u001b[0mStopIteration\u001b[0m \u001b[0;32mas\u001b[0m \u001b[0merr\u001b[0m\u001b[0;34m:\u001b[0m\u001b[0;34m\u001b[0m\u001b[0;34m\u001b[0m\u001b[0m\n\u001b[0;32m--> 355\u001b[0;31m             \u001b[0;32mraise\u001b[0m \u001b[0mJSONDecodeError\u001b[0m\u001b[0;34m(\u001b[0m\u001b[0;34m\"Expecting value\"\u001b[0m\u001b[0;34m,\u001b[0m \u001b[0ms\u001b[0m\u001b[0;34m,\u001b[0m \u001b[0merr\u001b[0m\u001b[0;34m.\u001b[0m\u001b[0mvalue\u001b[0m\u001b[0;34m)\u001b[0m \u001b[0;32mfrom\u001b[0m \u001b[0;32mNone\u001b[0m\u001b[0;34m\u001b[0m\u001b[0;34m\u001b[0m\u001b[0m\n\u001b[0m\u001b[1;32m    356\u001b[0m         \u001b[0;32mreturn\u001b[0m \u001b[0mobj\u001b[0m\u001b[0;34m,\u001b[0m \u001b[0mend\u001b[0m\u001b[0;34m\u001b[0m\u001b[0;34m\u001b[0m\u001b[0m\n",
      "\u001b[0;31mJSONDecodeError\u001b[0m: Expecting value: line 1 column 1 (char 0)"
     ]
    }
   ],
   "source": [
    "pageCount = 3000\n",
    "#apiBase = \"https://www.rottentomatoes.com/napi/tv/game_of_thrones/season/d4efb08e-d3c7-365e-a403-2d9095f85270/reviews/user\" # S8\n",
    "apiBase = 'https://www.rottentomatoes.com/napi/movie/f93fd0e2-42cf-3425-86a4-96090ed8ec13/reviews/user'\n",
    "reviews = []\n",
    "\n",
    "def getReviewPage(endCursor: str):\n",
    "    page = requests.get(apiBase, params={\"direction\": \"next\", \"startCursor\": \"\", \"endCursor\": endCursor})\n",
    "    if page.status_code != 200:\n",
    "        print(f\"Encountered error with web request: {page} {page.content}\")\n",
    "    return page.json()\n",
    "\n",
    "def extractReview(reviewDict):\n",
    "    review: str = reviewDict[\"review\"]\n",
    "    score = str(reviewDict[\"score\"])\n",
    "    review = review.lower()\n",
    "    review = re.sub(r\"[^\\w\\s]\", \"\", review) # Remove all punctuation / non word characters\n",
    "    review = re.sub(r\"[\\n\\r\\t\\f\\v]+|(  )+\", \" \", review) # Replace all whitespace with a single space\n",
    "    if re.match(\"[^ A-z0-9]\", review) != None: # If any non English characters/spaces are found at this point\n",
    "        return None\n",
    "    return (score, review)\n",
    "\n",
    "\n",
    "START = time.time()\n",
    "endCursor = \"\"\n",
    "for i in range(pageCount):\n",
    "    page = getReviewPage(endCursor)\n",
    "    reviews.extend([extractReview(review) for review in page[\"reviews\"]])\n",
    "    endCursor = page[\"pageInfo\"][\"endCursor\"]\n",
    "    if not page[\"pageInfo\"][\"hasNextPage\"]:\n",
    "        print(f\"Stopping at page {i + 1}, no more pages.\")\n",
    "        break\n",
    "END = time.time()\n",
    "\n",
    "print(f\"Processed {len(reviews)} reviews in {round(END - START, 3)} seconds.\")"
   ]
  },
  {
   "cell_type": "markdown",
   "metadata": {},
   "source": [
    "GoT S8: 3389 reviews (340 pages)\n",
    "\n",
    "Batman v Superman: 19,952 reviews in 1055.3 seconds (17m 35.3s)"
   ]
  },
  {
   "cell_type": "markdown",
   "metadata": {},
   "source": [
    "## Writing reviews to file"
   ]
  },
  {
   "cell_type": "code",
   "execution_count": 49,
   "metadata": {},
   "outputs": [],
   "source": [
    "with open(\"/home/richie/programming/data-mining-backup/project-2/fullData\", \"r+\") as file:\n",
    "    file.truncate(0)\n",
    "    for review in reviews:\n",
    "        if review:\n",
    "            file.write(\"__label__\" + review[0] + \" \" + review[1] + \"\\n\")"
   ]
  },
  {
   "cell_type": "markdown",
   "metadata": {},
   "source": [
    "## Finding invalid lines"
   ]
  },
  {
   "cell_type": "code",
   "execution_count": 41,
   "metadata": {},
   "outputs": [],
   "source": [
    "with open(\"/home/richie/programming/data-mining-backup/project-2/fullData edited\") as file:\n",
    "    lines = file.readlines()\n",
    "\n",
    "    for i in range(len(lines)): \n",
    "        parts = lines[i].split(\" \", maxsplit=3)\n",
    "        #if parts[0].find(\"__label__\") < 0 or len(parts) < 3:\n",
    "        if parts[0].find(\"__label__\") < 0:\n",
    "            print(f\"Invalid line: {i + 1}\")"
   ]
  },
  {
   "cell_type": "markdown",
   "metadata": {},
   "source": [
    "## Finding non-English and empty lines"
   ]
  },
  {
   "cell_type": "code",
   "execution_count": 58,
   "metadata": {},
   "outputs": [
    {
     "name": "stdout",
     "output_type": "stream",
     "text": [
      "Number of invalid lines: 0\n"
     ]
    }
   ],
   "source": [
    "with open(\"/home/richie/programming/data-mining-backup/project-2/fullData edited\") as file:\n",
    "    lines = file.readlines()\n",
    "    count = 0\n",
    "\n",
    "    for i in range(len(lines)): \n",
    "        text = \" \".join(lines[i].split(\" \")[1:])\n",
    "        if re.search(r\"[^ A-z0-9\\n]\", text) or len(text) < 3:\n",
    "            count += 1\n",
    "            print(f\"Invalid line: {i + 1}\\n{text}\")\n",
    "\n",
    "    print(f\"Number of invalid lines: {count}\")"
   ]
  },
  {
   "cell_type": "markdown",
   "metadata": {},
   "source": [
    "## Removing non-English and empty lines"
   ]
  },
  {
   "cell_type": "code",
   "execution_count": 57,
   "metadata": {},
   "outputs": [
    {
     "name": "stdout",
     "output_type": "stream",
     "text": [
      "Lines removed: 0\n"
     ]
    }
   ],
   "source": [
    "with open(\"/home/richie/programming/data-mining-backup/project-2/fullData edited\", \"r+\") as file:\n",
    "    count = 0\n",
    "    lines = file.readlines()\n",
    "    file.seek(0)\n",
    "    for line in lines:\n",
    "        text = \" \".join(line.split(\" \")[1:])\n",
    "        if not re.search(r\"[^ A-z0-9\\n]\", text) and len(text) > 2:\n",
    "            file.write(line)\n",
    "        else:\n",
    "            count += 1\n",
    "    \n",
    "    file.truncate()\n",
    "    print(f\"Lines removed: {count}\")"
   ]
  },
  {
   "cell_type": "markdown",
   "metadata": {},
   "source": [
    "## Removing Stopwords"
   ]
  },
  {
   "cell_type": "code",
   "execution_count": 7,
   "metadata": {},
   "outputs": [],
   "source": [
    "stops =  stopwords.words(\"english\")\n",
    "\n",
    "for stop in stops:\n",
    "    if \"'\" in stop:\n",
    "        stops.append(stop.replace(\"'\", \"\"))\n",
    "\n",
    "#print(stops)\n",
    "i = 0\n",
    "\n",
    "with open(\"/home/richie/programming/data-mining-backup/project-2/fullData final\") as oldFile:\n",
    "    with open(\"/home/richie/programming/data-mining-backup/project-2/fullData final2\", \"r+\") as newFile:\n",
    "        newFile.truncate()\n",
    "        for oldLine in oldFile:\n",
    "            words = oldLine.split(\" \")\n",
    "            filtered = [word for word in words if not word in stops]\n",
    "            newFile.write(\" \".join(filtered))"
   ]
  },
  {
   "cell_type": "markdown",
   "metadata": {},
   "source": [
    "## Splitting into Train and Test data"
   ]
  },
  {
   "cell_type": "code",
   "execution_count": 8,
   "metadata": {},
   "outputs": [],
   "source": [
    "trainRatio = 0.75\n",
    "\n",
    "with open(\"/home/richie/programming/data-mining-backup/project-2/fullData final2\") as fullData:\n",
    "    lines = fullData.readlines()\n",
    "    length = len(lines)\n",
    "    split = round(length * trainRatio)\n",
    "    \n",
    "    with open(\"/home/richie/programming/data-mining-backup/project-2/trainData\", \"r+\") as trainData:\n",
    "        trainData.truncate()\n",
    "        for i in range(split):\n",
    "            trainData.write(lines[i])\n",
    "    with open(\"/home/richie/programming/data-mining-backup/project-2/testData\", \"r+\") as testData:\n",
    "        testData.truncate()\n",
    "        for i in range(split, length):\n",
    "            testData.write(lines[i])"
   ]
  },
  {
   "cell_type": "markdown",
   "metadata": {},
   "source": [
    "# Model Training\n",
    "The following arguments for training are optional:\n",
    "  - lr:                 learning rate [0.1]\n",
    "  - lrUpdateRate:       change the rate of updates for the learning rate [100]\n",
    "  - dim:                size of word vectors [100]\n",
    "  - ws:                 size of the context window [5]\n",
    "  - epoch:              number of epochs [5]\n",
    "  - neg:                number of negatives sampled [5]\n",
    "  - loss:               loss function {ns, hs, softmax} [softmax]\n",
    "  - thread:             number of threads [12]\n",
    "  - pretrainedVectors:  pretrained word vectors for supervised learning []\n",
    "  - saveOutput:         whether output params should be saved [0]"
   ]
  },
  {
   "cell_type": "code",
   "execution_count": 44,
   "metadata": {},
   "outputs": [
    {
     "name": "stderr",
     "output_type": "stream",
     "text": [
      "Read 0M words\n",
      "Number of words:  26474\n",
      "Number of labels: 10\n"
     ]
    },
    {
     "name": "stdout",
     "output_type": "stream",
     "text": [
      "Finished training in 4.04 seconds.\n"
     ]
    },
    {
     "name": "stderr",
     "output_type": "stream",
     "text": [
      "Progress: 100.0% words/sec/thread:  812521 lr:  0.000000 avg.loss:  0.255590 ETA:   0h 0m 0s\n"
     ]
    }
   ],
   "source": [
    "START = time.time()\n",
    "model = fasttext.train_supervised(\"/home/richie/programming/data-mining-backup/project-2/trainData\", epoch=50, lr=1, lrUpdateRate=10, wordNgrams=2)\n",
    "#fasttext.train_supervised(\"/home/richie/programming/data-mining-backup/project-2/trainData\")\n",
    "END = time.time()\n",
    "print(f\"Finished training in {round(END - START, 2)} seconds.\")"
   ]
  },
  {
   "cell_type": "code",
   "execution_count": 150,
   "metadata": {},
   "outputs": [
    {
     "name": "stdout",
     "output_type": "stream",
     "text": [
      "__label__5: 28.64%\n",
      "__label__4: 15.27%\n",
      "__label__3: 8.37%\n",
      "__label__3.5: 8.06%\n",
      "__label__0.5: 7.86%\n",
      "__label__2: 7.74%\n",
      "__label__4.5: 7.68%\n",
      "__label__1: 6.28%\n",
      "__label__2.5: 6.02%\n",
      "__label__1.5: 4.08%\n"
     ]
    }
   ],
   "source": [
    "# See label distribution\n",
    "trainLabels = {}\n",
    "total = 0\n",
    "for label in model.get_labels():\n",
    "    trainLabels[label] = 0\n",
    "\n",
    "with open(\"/home/richie/programming/data-mining-backup/project-2/trainData\") as file:\n",
    "    for line in file:\n",
    "        label = line.split(\" \", maxsplit=1)[0]\n",
    "        trainLabels[label] += 1\n",
    "        total += 1\n",
    "        \n",
    "for label, count in trainLabels.items():\n",
    "    print(f\"{label}: {round(count/total * 100, 2)}%\")"
   ]
  },
  {
   "cell_type": "markdown",
   "metadata": {},
   "source": [
    "## Testing Model"
   ]
  },
  {
   "cell_type": "code",
   "execution_count": 77,
   "metadata": {},
   "outputs": [
    {
     "name": "stdout",
     "output_type": "stream",
     "text": [
      "Total: 4833\n",
      "Correct: 1813 (37.51%)\n",
      "Within 0.5: 1235 (25.55%) (63.07% Total)\n",
      "Within 1.0: 999 (20.67%) (83.74% Total)\n",
      "Outside 1.0:  786 (16.26%)\n"
     ]
    }
   ],
   "source": [
    "results = []\n",
    "\n",
    "with open(\"/home/richie/programming/data-mining-backup/project-2/testData\") as testData:\n",
    "    for line in testData:\n",
    "        #line = testData.readline()\n",
    "        parts = line.split(\" \")\n",
    "        label, review = parts[0], \" \".join(parts[1:]).replace(\"\\n\", \"\")\n",
    "        predicted = model.predict(review)\n",
    "        results.append((label, predicted[0][0]))\n",
    "        #print(label, predicted[0][0])\n",
    "\n",
    "total = len(results)\n",
    "correct = 0\n",
    "halfOff = 0\n",
    "oneOff = 0\n",
    "other = 0\n",
    "\n",
    "for result in results:\n",
    "    diff = abs(float(result[0][9:]) - float(result[1][9:]))\n",
    "    if result[0] == result[1]:\n",
    "        correct += 1\n",
    "    elif diff <= 0.5:  \n",
    "        halfOff += 1\n",
    "    elif diff <= 1.0:\n",
    "        oneOff += 1\n",
    "    else:\n",
    "        other += 1\n",
    "\n",
    "output = f\"Total: {total}\\nCorrect: {correct} ({round(correct/total * 100, 2)}%)\\n\" + \\\n",
    "    f\"Within 0.5: {halfOff} ({round(halfOff/total * 100, 2)}%) ({round((halfOff + correct)/total * 100, 2)}% Total)\"+ \\\n",
    "    f\"\\nWithin 1.0: {oneOff} ({round(oneOff/total * 100, 2)}%) ({round((oneOff + halfOff + correct)/total * 100, 2)}% Total)\" + \\\n",
    "    f\"\\nOutside 1.0:  {other} ({round(other/total * 100, 2)}%)\"\n",
    "print(output)"
   ]
  },
  {
   "cell_type": "code",
   "execution_count": 152,
   "metadata": {},
   "outputs": [
    {
     "name": "stdout",
     "output_type": "stream",
     "text": [
      "__label__5: 35.28%\n",
      "__label__4: 17.03%\n",
      "__label__3: 6.85%\n",
      "__label__3.5: 7.1%\n",
      "__label__0.5: 5.26%\n",
      "__label__2: 6.29%\n",
      "__label__4.5: 9.93%\n",
      "__label__1: 4.26%\n",
      "__label__2.5: 4.8%\n",
      "__label__1.5: 3.21%\n"
     ]
    }
   ],
   "source": [
    "# See label distribution\n",
    "testLabels = {}\n",
    "total = 0\n",
    "for label in model.get_labels():\n",
    "    testLabels[label] = 0\n",
    "\n",
    "with open(\"/home/richie/programming/data-mining-backup/project-2/testData\") as file:\n",
    "    for line in file:\n",
    "        label = line.split(\" \", maxsplit=1)[0]\n",
    "        testLabels[label] += 1\n",
    "        total += 1\n",
    "        \n",
    "for label, count in testLabels.items():\n",
    "    print(f\"{label}: {round(count/total * 100, 2)}%\")"
   ]
  },
  {
   "cell_type": "markdown",
   "metadata": {},
   "source": [
    "## Visualizations"
   ]
  },
  {
   "cell_type": "code",
   "execution_count": 76,
   "metadata": {},
   "outputs": [
    {
     "data": {
      "image/png": "[encoded data removed]",
      "text/plain": [
       "<Figure size 432x288 with 1 Axes>"
      ]
     },
     "metadata": {
      "needs_background": "light"
     },
     "output_type": "display_data"
    },
    {
     "data": {
      "image/png": "[encoded data removed]",
      "text/plain": [
       "<Figure size 432x288 with 1 Axes>"
      ]
     },
     "metadata": {
      "needs_background": "light"
     },
     "output_type": "display_data"
    },
    {
     "data": {
      "image/png": "[encoded data removed]",
      "text/plain": [
       "<Figure size 432x288 with 1 Axes>"
      ]
     },
     "metadata": {
      "needs_background": "light"
     },
     "output_type": "display_data"
    }
   ],
   "source": [
    "def getReviews(filePath):\n",
    "    labels = {}\n",
    "    with open(filePath) as file:\n",
    "        for line in file.readlines():\n",
    "            parts = line.split(\" \", maxsplit=1)\n",
    "            label = parts[0].replace(\"__label__\", \"\")\n",
    "        \n",
    "            if not labels.get(label):\n",
    "                labels[label] = 1\n",
    "            else:\n",
    "                labels[label] += 1\n",
    "\n",
    "    return labels\n",
    "\n",
    "def graphReviews(reviews, title):\n",
    "    keys = list(reviews.keys())\n",
    "    keys.sort()\n",
    "    values = [reviews[key] for key in keys]\n",
    "\n",
    "    plt.grid(zorder=0)\n",
    "    plt.bar(keys, values, zorder=2)\n",
    "    plt.ylabel(\"Count\")\n",
    "    plt.xlabel(\"Rating\")\n",
    "    plt.title(title)\n",
    "    plt.show()\n",
    "\n",
    "graphReviews(getReviews(\"/home/richie/programming/data-mining-backup/project-2/fullData final2\"), \"Full Dataset\")\n",
    "graphReviews(getReviews(\"/home/richie/programming/data-mining-backup/project-2/trainData\"), \"Training Dataset\")\n",
    "graphReviews(getReviews(\"/home/richie/programming/data-mining-backup/project-2/testData\"), \"Testing Dataset\")"
   ]
  },
  {
   "cell_type": "code",
   "execution_count": 115,
   "metadata": {},
   "outputs": [
    {
     "name": "stdout",
     "output_type": "stream",
     "text": [
      "{'0.5': {'0.5': 85, '1': 59, '1.5': 19, '2': 47, '2.5': 15, '3': 23, '3.5': 6, '4': 8, '4.5': 2, '5': 10}, '1': {'0.5': 50, '1': 35, '1.5': 29, '2': 39, '2.5': 19, '3': 9, '3.5': 2, '4': 3, '4.5': 3, '5': 7}, '1.5': {'0.5': 16, '1': 22, '1.5': 17, '2': 19, '2.5': 16, '3': 2, '3.5': 7, '4': 8, '4.5': 5, '5': 1}, '2': {'0.5': 41, '1': 36, '1.5': 23, '2': 64, '2.5': 37, '3': 35, '3.5': 18, '4': 13, '4.5': 8, '5': 12}, '2.5': {'0.5': 13, '1': 23, '1.5': 26, '2': 55, '2.5': 40, '3': 43, '3.5': 18, '4': 17, '4.5': 6, '5': 15}, '3': {'0.5': 16, '1': 9, '1.5': 17, '2': 33, '2.5': 43, '3': 66, '3.5': 45, '4': 59, '4.5': 18, '5': 42}, '3.5': {'0.5': 6, '1': 7, '1.5': 7, '2': 15, '2.5': 26, '3': 38, '3.5': 48, '4': 80, '4.5': 29, '5': 71}, '4': {'0.5': 7, '1': 2, '1.5': 7, '2': 9, '2.5': 12, '3': 68, '3.5': 105, '4': 266, '4.5': 127, '5': 253}, '4.5': {'0.5': 1, '1': 0, '1.5': 1, '2': 5, '2.5': 7, '3': 11, '3.5': 33, '4': 76, '4.5': 43, '5': 145}, '5': {'0.5': 19, '1': 13, '1.5': 9, '2': 18, '2.5': 17, '3': 36, '3.5': 61, '4': 293, '4.5': 239, '5': 1149}}\n",
      "[[85, 59, 19, 47, 15, 23, 6, 8, 2, 10], [50, 35, 29, 39, 19, 9, 2, 3, 3, 7], [16, 22, 17, 19, 16, 2, 7, 8, 5, 1], [41, 36, 23, 64, 37, 35, 18, 13, 8, 12], [13, 23, 26, 55, 40, 43, 18, 17, 6, 15], [16, 9, 17, 33, 43, 66, 45, 59, 18, 42], [6, 7, 7, 15, 26, 38, 48, 80, 29, 71], [7, 2, 7, 9, 12, 68, 105, 266, 127, 253], [1, 0, 1, 5, 7, 11, 33, 76, 43, 145], [19, 13, 9, 18, 17, 36, 61, 293, 239, 1149]]\n"
     ]
    },
    {
     "data": {
      "image/png": "[encoded data removed]",
      "text/plain": [
       "<Figure size 720x720 with 1 Axes>"
      ]
     },
     "metadata": {
      "needs_background": "light"
     },
     "output_type": "display_data"
    }
   ],
   "source": [
    "def convertLabel(label):\n",
    "    return label.replace(\"__label__\", \"\")\n",
    "\n",
    "# Prediction accuracy plot\n",
    "labels = [\"0.5\", \"1\", \"1.5\", \"2\", \"2.5\", \"3\", \"3.5\", \"4\", \"4.5\", \"5\"]\n",
    "dataDict = {predictedLabel:{actualLabel:0 for actualLabel in labels} for predictedLabel in labels}\n",
    "data = [[0] * len(labels) for i in range(len(labels))]\n",
    "\n",
    "def getLabelIndex(label):\n",
    "    return labels.index(label)\n",
    "\n",
    "for result in results:\n",
    "    dataDict[convertLabel(result[1])][convertLabel(result[0])] += 1\n",
    "    actual = convertLabel(result[0])\n",
    "    predicted = convertLabel(result[1])\n",
    "    data[getLabelIndex(predicted)][getLabelIndex(actual)] += 1\n",
    "\n",
    "#print(dataDict)\n",
    "#print(data)\n",
    "\n",
    "fig, ax = plt.subplots()\n",
    "ax.set_axis_off()\n",
    "table = ax.table(cellText=data, rowLabels=labels, colLabels=labels, rowColours=[\"palegreen\"] * 10, colColours=[\"palegreen\"] * 10, loc=\"center\", rowLoc=\"center\", colLoc=\"center\")\n",
    "fig.set_figwidth(10)\n",
    "fig.set_figheight(10)\n"
   ]
  }
 ],
 "metadata": {
  "interpreter": {
   "hash": "31f2aee4e71d21fbe5cf8b01ff0e069b9275f58929596ceb00d14d90e3e16cd6"
  },
  "kernelspec": {
   "display_name": "Python 3.7.5 64-bit",
   "language": "python",
   "name": "python3"
  },
  "language_info": {
   "codemirror_mode": {
    "name": "ipython",
    "version": 3
   },
   "file_extension": ".py",
   "mimetype": "text/x-python",
   "name": "python",
   "nbconvert_exporter": "python",
   "pygments_lexer": "ipython3",
   "version": "3.7.5"
  },
  "orig_nbformat": 4
 },
 "nbformat": 4,
 "nbformat_minor": 2
}
