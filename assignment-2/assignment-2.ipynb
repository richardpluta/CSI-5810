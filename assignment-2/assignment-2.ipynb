{
 "cells": [
  {
   "cell_type": "markdown",
   "source": [
    "Richard Pluta\n",
    "\n",
    "### Required libraries"
   ],
   "metadata": {}
  },
  {
   "cell_type": "code",
   "execution_count": 1,
   "source": [
    "import numpy as np\n",
    "import pandas as pd\n",
    "import matplotlib.pyplot as plt\n",
    "import nltk as nltk\n",
    "import sklearn as skl\n",
    "import scipy as scipy\n",
    "from sklearn.neighbors import KNeighborsClassifier\n",
    "from sklearn.naive_bayes import GaussianNB\n",
    "from sklearn.discriminant_analysis import LinearDiscriminantAnalysis\n",
    "from sklearn.decomposition import PCA\n",
    "\n",
    "nltk.download(\"stopwords\")\n",
    "nltk.download(\"punkt\")"
   ],
   "outputs": [
    {
     "output_type": "stream",
     "name": "stderr",
     "text": [
      "[nltk_data] Downloading package stopwords to /home/richie/nltk_data...\n",
      "[nltk_data]   Package stopwords is already up-to-date!\n",
      "[nltk_data] Downloading package punkt to /home/richie/nltk_data...\n",
      "[nltk_data]   Package punkt is already up-to-date!\n"
     ]
    },
    {
     "output_type": "execute_result",
     "data": {
      "text/plain": [
       "True"
      ]
     },
     "metadata": {},
     "execution_count": 1
    }
   ],
   "metadata": {}
  },
  {
   "cell_type": "markdown",
   "source": [
    "# Question 1\n",
    "The folder “CSI5810TextFiles” posted on Moodle contains 8 text files. You are to apply text-processing steps including stop word filtering to obtain term-document matrix under Boolean Model. Using this matrix, calculate similarity between all document pairs and show your results in the form of an8x8 matrix.Use Jaccard’s similarity measure."
   ],
   "metadata": {}
  },
  {
   "cell_type": "code",
   "execution_count": 2,
   "source": [
    "path = \"./CSI5810TextFiles/\"\n",
    "files = [\n",
    "    open(path + \"lyrics1.txt\", \"r\").read().replace(\"\\\\n\", \" \"),\n",
    "    open(path + \"lyrics2.txt\", \"r\").read().replace(\"\\\\n\", \" \"),\n",
    "    open(path + \"lyrics3.txt\", \"r\").read().replace(\"\\\\n\", \" \"),\n",
    "    open(path + \"lyrics4.txt\", \"r\").read().replace(\"\\\\n\", \" \"),\n",
    "    open(path + \"rhym1.txt\", \"r\").read().replace(\"\\\\n\", \" \"),\n",
    "    open(path + \"rhym2.txt\", \"r\").read().replace(\"\\\\n\", \" \"),\n",
    "    open(path + \"rhym3.txt\", \"r\").read().replace(\"\\\\n\", \" \"),\n",
    "    open(path + \"rhym4.txt\", \"r\").read().replace(\"\\\\n\", \" \")\n",
    "]\n",
    "\n",
    "stopwords = nltk.corpus.stopwords.words()\n",
    "processed = []\n",
    "\n",
    "for file in files:\n",
    "    text = nltk.word_tokenize(file)\n",
    "    #text = file.split()\n",
    "    text = [word.lower() for word in text]\n",
    "    filtered = [word for word in text if not word in stopwords]\n",
    "    sentence = \" \".join(filtered)\n",
    "    processed.append(sentence)\n",
    "\n",
    "print(processed)"
   ],
   "outputs": [
    {
     "output_type": "stream",
     "name": "stdout",
     "text": [
      "[\"yesterday gay , high rainbow , 's rainbow , 've gone , lover blue life sweet , complete , 've suddenly waken find 'm forsaken , alone , lover blue still remember love affair , matter , 'll go everywhere , every scene reminds something binds , lover blue\", \"funny valentine sweet comic valentine make smile heart looks laughable unphotographable yet 're favorite work art figure less greek ? mouth little weak ? open speak smart ? n't change hair stay little valentine stay day valentines day figure less greek mouth little weak open speak smart ? n't change hair stay little valentine stay day valentines day .\", \"fly , let 's fly , let 's fly away could use exotic booze 's bar far bombay fly , let 's fly , let 's fly away\", 'fill heart song let sing ever long worship adore words , please true words , love', 'twinkle , twinkle , little star , wonder ! world high , like diamond sky !', 'star light , star bright , first star see tonight . wish may , wish might , wish wish tonight .', 'mary little lamb , fleece white snow ; everywhere mary went , lamb sure go .', 'mary , mary , quite contrary , garden grow ? silver bells , cockle shells , pretty maids row .']\n"
     ]
    }
   ],
   "metadata": {}
  },
  {
   "cell_type": "code",
   "execution_count": 3,
   "source": [
    "data = skl.feature_extraction.text.CountVectorizer()\n",
    "data = data.fit_transform(processed).toarray()\n",
    "data = np.where(data > 0, 1, 0)\n",
    "data = pd.DataFrame(data)\n",
    "\n",
    "#print(data)\n",
    "\n",
    "scores = []\n",
    "for x in range(len(data)):\n",
    "    for y in range(len(data)):\n",
    "        scores.append(skl.metrics.jaccard_score(data.iloc[x], data.iloc[y]))\n",
    "      \n",
    "scores = np.array(scores)\n",
    "scores = scores.reshape(8, 8)\n",
    "\n",
    "\n",
    "print(\"Jaccard's Similarity Measure:\\n\", pd.DataFrame(scores).to_markdown())"
   ],
   "outputs": [
    {
     "output_type": "stream",
     "name": "stdout",
     "text": [
      "Jaccard's Similarity Measure:\n",
      " |    |         0 |         1 |         2 |         3 |         4 |         5 |         6 |        7 |\n",
      "|---:|----------:|----------:|----------:|----------:|----------:|----------:|----------:|---------:|\n",
      "|  0 | 1         | 0.0175439 | 0         | 0.0243902 | 0.027027  | 0         | 0.0540541 | 0        |\n",
      "|  1 | 0.0175439 | 1         | 0         | 0.0243902 | 0.027027  | 0         | 0.0263158 | 0        |\n",
      "|  2 | 0         | 0         | 1         | 0.0454545 | 0         | 0         | 0         | 0        |\n",
      "|  3 | 0.0243902 | 0.0243902 | 0.0454545 | 1         | 0         | 0         | 0         | 0        |\n",
      "|  4 | 0.027027  | 0.027027  | 0         | 0         | 1         | 0.0588235 | 0.0555556 | 0        |\n",
      "|  5 | 0         | 0         | 0         | 0         | 0.0588235 | 1         | 0         | 0        |\n",
      "|  6 | 0.0540541 | 0.0263158 | 0         | 0         | 0.0555556 | 0         | 1         | 0.047619 |\n",
      "|  7 | 0         | 0         | 0         | 0         | 0         | 0         | 0.047619  | 1        |\n"
     ]
    }
   ],
   "metadata": {}
  },
  {
   "cell_type": "markdown",
   "source": [
    "# Question 2\n",
    "\n",
    "This is a continuation of Exercise #1. In this case, determine the vector space representation for each document and calculate the 8x8 document similarity matrix using Cosine measure of similarity."
   ],
   "metadata": {}
  },
  {
   "cell_type": "code",
   "execution_count": 4,
   "source": [
    "scores = []\n",
    "\n",
    "for x in range(len(data)):\n",
    "    for y in range(len(data)):\n",
    "        scores.append(scipy.spatial.distance.cosine(data.iloc[x], data.iloc[y]))\n",
    "        \n",
    "scores = np.array(scores)\n",
    "scores = scores.reshape(8, 8)\n",
    "\n",
    "print(\"Cosine Similarity Measure:\\n\", pd.DataFrame(scores).to_markdown())"
   ],
   "outputs": [
    {
     "output_type": "stream",
     "name": "stdout",
     "text": [
      "Cosine Similarity Measure:\n",
      " |    |        0 |        1 |        2 |        3 |        4 |        5 |        6 |        7 |\n",
      "|---:|---------:|---------:|---------:|---------:|---------:|---------:|---------:|---------:|\n",
      "|  0 | 0        | 0.965517 | 1        | 0.948497 | 0.938102 | 1        | 0.882556 | 1        |\n",
      "|  1 | 0.965517 | 0        | 1        | 0.948497 | 0.938102 | 1        | 0.941278 | 1        |\n",
      "|  2 | 1        | 1        | 0        | 0.912294 | 1        | 1        | 1        | 1        |\n",
      "|  3 | 0.948497 | 0.948497 | 0.912294 | 0        | 1        | 1        | 1        | 1        |\n",
      "|  4 | 0.938102 | 0.938102 | 1        | 1        | 0        | 0.888889 | 0.894591 | 1        |\n",
      "|  5 | 1        | 1        | 1        | 1        | 0.888889 | 0        | 1        | 1        |\n",
      "|  6 | 0.882556 | 0.941278 | 1        | 1        | 0.894591 | 1        | 0        | 0.908713 |\n",
      "|  7 | 1        | 1        | 1        | 1        | 1        | 1        | 0.908713 | 0        |\n"
     ]
    }
   ],
   "metadata": {}
  },
  {
   "cell_type": "markdown",
   "source": [
    "# Question 3\n",
    "\n",
    "In this exercise, you will use “Wheat Data” posted at Moodle. The data consists of 32training examples each from three classes. Using these training examples, you will perform classification of 3 test examples by k-NN classification(k= 1, 3, and 5), and by Naïve Bayes classifier. Compare and comment on your results."
   ],
   "metadata": {}
  },
  {
   "cell_type": "code",
   "execution_count": 5,
   "source": [
    "data = pd.read_csv(\"Wheat_Data.csv\").astype(\"float\").to_numpy()\n",
    "classes = [1] * 32 + [2] * 32 + [3] * 32\n",
    "\n",
    "test = pd.read_csv(\"Wheat_Data_Test.csv\").astype(\"float\").to_numpy()"
   ],
   "outputs": [],
   "metadata": {}
  },
  {
   "cell_type": "code",
   "execution_count": 6,
   "source": [
    "for i in [1, 3, 5]:\n",
    "    knn = KNeighborsClassifier(n_neighbors=i)\n",
    "    knn.fit(data, classes)\n",
    "\n",
    "    print(\"k-NN Classification for k=\" + str(i) + \"\\n\", knn.predict(test))"
   ],
   "outputs": [
    {
     "output_type": "stream",
     "name": "stdout",
     "text": [
      "k-NN Classification for k=1\n",
      " [3 2 3]\n",
      "k-NN Classification for k=3\n",
      " [3 2 3]\n",
      "k-NN Classification for k=5\n",
      " [3 2 3]\n"
     ]
    }
   ],
   "metadata": {}
  },
  {
   "cell_type": "code",
   "execution_count": 7,
   "source": [
    "nb = GaussianNB()\n",
    "nb.fit(data, classes)\n",
    "\n",
    "print(\"Naive Bayes Classification:\\n\", nb.predict(test))"
   ],
   "outputs": [
    {
     "output_type": "stream",
     "name": "stdout",
     "text": [
      "Naive Bayes Classification:\n",
      " [3 2 3]\n"
     ]
    }
   ],
   "metadata": {}
  },
  {
   "cell_type": "markdown",
   "source": [
    "The predictions of each k-NN classifier and the Naive Bayes classifier appear to produce the same result. "
   ],
   "metadata": {}
  },
  {
   "cell_type": "markdown",
   "source": [
    "# Question 4\n",
    "\n",
    "In this exercise, you will again use 32 training examples of wheat data and project them into two-dimensions using the Fisher’s LDA method for multiple classes. Next, you will apply PCA on the same 32 examples to reduce the data to two dimensions. You will show your result by creating two scatter plots, one for LDA and the other for PCA. Make sure to color code the project points with their respective class labels."
   ],
   "metadata": {}
  },
  {
   "cell_type": "code",
   "execution_count": 8,
   "source": [
    "lda = LinearDiscriminantAnalysis(n_components=2)\n",
    "lda.fit(data, classes)\n",
    "projected = lda.transform(data)\n",
    "\n",
    "plt.scatter(projected[0:32,0], projected[0:32,1], color=\"r\", label=\"Class 1\")\n",
    "plt.scatter(projected[32:64,0], projected[32:64,1], color=\"g\", label=\"Class 2\")\n",
    "plt.scatter(projected[64:96,0], projected[64:96,1], color=\"b\", label=\"Class 3\")\n",
    "plt.title(\"Wheat Data Projected by Fisher's LDA\")\n",
    "plt.legend()\n",
    "plt.show()\n"
   ],
   "outputs": [
    {
     "output_type": "display_data",
     "data": {
      "image/png": "[encoded data removed]",
      "text/plain": [
       "<Figure size 432x288 with 1 Axes>"
      ]
     },
     "metadata": {}
    }
   ],
   "metadata": {}
  },
  {
   "cell_type": "code",
   "execution_count": 9,
   "source": [
    "\n",
    "pca = PCA(n_components=2)\n",
    "pca.fit(data)\n",
    "projected = pca.transform(data)\n",
    "\n",
    "plt.scatter(projected[0:32,0], projected[0:32,1], color=\"r\", label=\"Class 1\")\n",
    "plt.scatter(projected[32:64,0], projected[32:64,1], color=\"g\", label=\"Class 2\")\n",
    "plt.scatter(projected[64:96,0], projected[64:96,1], color=\"b\", label=\"Class 3\")\n",
    "plt.title(\"Wheat Data Projected by PCA\")\n",
    "plt.legend()\n",
    "plt.show()"
   ],
   "outputs": [
    {
     "output_type": "display_data",
     "data": {
      "image/png": "[encoded data removed]",
      "text/plain": [
       "<Figure size 432x288 with 1 Axes>"
      ]
     },
     "metadata": {}
    }
   ],
   "metadata": {}
  }
 ],
 "metadata": {
  "orig_nbformat": 4,
  "language_info": {
   "name": "python",
   "version": "3.6.9",
   "mimetype": "text/x-python",
   "codemirror_mode": {
    "name": "ipython",
    "version": 3
   },
   "pygments_lexer": "ipython3",
   "nbconvert_exporter": "python",
   "file_extension": ".py"
  },
  "kernelspec": {
   "name": "python3",
   "display_name": "Python 3.6.9 64-bit"
  },
  "interpreter": {
   "hash": "31f2aee4e71d21fbe5cf8b01ff0e069b9275f58929596ceb00d14d90e3e16cd6"
  }
 },
 "nbformat": 4,
 "nbformat_minor": 2
}