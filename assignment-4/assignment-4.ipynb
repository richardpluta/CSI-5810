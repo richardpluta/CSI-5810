{
 "cells": [
  {
   "cell_type": "markdown",
   "metadata": {},
   "source": [
    "## Required Libraries"
   ]
  },
  {
   "cell_type": "code",
   "execution_count": 17,
   "metadata": {},
   "outputs": [],
   "source": [
    "import pandas as pd\n",
    "import numpy as np\n",
    "from matplotlib import pyplot as plt\n",
    "from sklearn.cluster import KMeans\n",
    "from sklearn.metrics import mean_squared_error, rand_score\n",
    "from sklearn.metrics.pairwise import cosine_similarity\n",
    "\n",
    "np.set_printoptions(precision=3)"
   ]
  },
  {
   "cell_type": "markdown",
   "metadata": {},
   "source": [
    "# Question 1\n",
    "In this exercise, you will perform k-means clustering on the seed data at the \n",
    "following link: \n",
    "<https://archive.ics.uci.edu/ml/datasets/seeds>\n",
    "\n",
    "You will perform clustering using the following values of k: 2,3, 4, and 5. In each \n",
    "case you will determine the SSE value and calculate the value of Rand index and \n",
    "tabulate your results."
   ]
  },
  {
   "cell_type": "code",
   "execution_count": 3,
   "metadata": {},
   "outputs": [
    {
     "data": {
      "text/html": [
       "<div>\n",
       "<style scoped>\n",
       "    .dataframe tbody tr th:only-of-type {\n",
       "        vertical-align: middle;\n",
       "    }\n",
       "\n",
       "    .dataframe tbody tr th {\n",
       "        vertical-align: top;\n",
       "    }\n",
       "\n",
       "    .dataframe thead th {\n",
       "        text-align: right;\n",
       "    }\n",
       "</style>\n",
       "<table border=\"1\" class=\"dataframe\">\n",
       "  <thead>\n",
       "    <tr style=\"text-align: right;\">\n",
       "      <th></th>\n",
       "      <th>Area</th>\n",
       "      <th>Perrimeter</th>\n",
       "      <th>Compactness</th>\n",
       "      <th>Kernel Length</th>\n",
       "      <th>Kernel Width</th>\n",
       "      <th>Asymmetry Coefficient</th>\n",
       "      <th>Kernel Groove Length</th>\n",
       "      <th>Variant</th>\n",
       "    </tr>\n",
       "  </thead>\n",
       "  <tbody>\n",
       "    <tr>\n",
       "      <th>count</th>\n",
       "      <td>210.000000</td>\n",
       "      <td>210.000000</td>\n",
       "      <td>210.000000</td>\n",
       "      <td>210.000000</td>\n",
       "      <td>210.000000</td>\n",
       "      <td>210.000000</td>\n",
       "      <td>210.000000</td>\n",
       "      <td>210.000000</td>\n",
       "    </tr>\n",
       "    <tr>\n",
       "      <th>mean</th>\n",
       "      <td>14.847524</td>\n",
       "      <td>14.559286</td>\n",
       "      <td>0.870999</td>\n",
       "      <td>5.628533</td>\n",
       "      <td>3.258605</td>\n",
       "      <td>3.700201</td>\n",
       "      <td>5.408071</td>\n",
       "      <td>2.000000</td>\n",
       "    </tr>\n",
       "    <tr>\n",
       "      <th>std</th>\n",
       "      <td>2.909699</td>\n",
       "      <td>1.305959</td>\n",
       "      <td>0.023629</td>\n",
       "      <td>0.443063</td>\n",
       "      <td>0.377714</td>\n",
       "      <td>1.503557</td>\n",
       "      <td>0.491480</td>\n",
       "      <td>0.818448</td>\n",
       "    </tr>\n",
       "    <tr>\n",
       "      <th>min</th>\n",
       "      <td>10.590000</td>\n",
       "      <td>12.410000</td>\n",
       "      <td>0.808100</td>\n",
       "      <td>4.899000</td>\n",
       "      <td>2.630000</td>\n",
       "      <td>0.765100</td>\n",
       "      <td>4.519000</td>\n",
       "      <td>1.000000</td>\n",
       "    </tr>\n",
       "    <tr>\n",
       "      <th>25%</th>\n",
       "      <td>12.270000</td>\n",
       "      <td>13.450000</td>\n",
       "      <td>0.856900</td>\n",
       "      <td>5.262250</td>\n",
       "      <td>2.944000</td>\n",
       "      <td>2.561500</td>\n",
       "      <td>5.045000</td>\n",
       "      <td>1.000000</td>\n",
       "    </tr>\n",
       "    <tr>\n",
       "      <th>50%</th>\n",
       "      <td>14.355000</td>\n",
       "      <td>14.320000</td>\n",
       "      <td>0.873450</td>\n",
       "      <td>5.523500</td>\n",
       "      <td>3.237000</td>\n",
       "      <td>3.599000</td>\n",
       "      <td>5.223000</td>\n",
       "      <td>2.000000</td>\n",
       "    </tr>\n",
       "    <tr>\n",
       "      <th>75%</th>\n",
       "      <td>17.305000</td>\n",
       "      <td>15.715000</td>\n",
       "      <td>0.887775</td>\n",
       "      <td>5.979750</td>\n",
       "      <td>3.561750</td>\n",
       "      <td>4.768750</td>\n",
       "      <td>5.877000</td>\n",
       "      <td>3.000000</td>\n",
       "    </tr>\n",
       "    <tr>\n",
       "      <th>max</th>\n",
       "      <td>21.180000</td>\n",
       "      <td>17.250000</td>\n",
       "      <td>0.918300</td>\n",
       "      <td>6.675000</td>\n",
       "      <td>4.033000</td>\n",
       "      <td>8.456000</td>\n",
       "      <td>6.550000</td>\n",
       "      <td>3.000000</td>\n",
       "    </tr>\n",
       "  </tbody>\n",
       "</table>\n",
       "</div>"
      ],
      "text/plain": [
       "             Area  Perrimeter  Compactness  Kernel Length  Kernel Width  \\\n",
       "count  210.000000  210.000000   210.000000     210.000000    210.000000   \n",
       "mean    14.847524   14.559286     0.870999       5.628533      3.258605   \n",
       "std      2.909699    1.305959     0.023629       0.443063      0.377714   \n",
       "min     10.590000   12.410000     0.808100       4.899000      2.630000   \n",
       "25%     12.270000   13.450000     0.856900       5.262250      2.944000   \n",
       "50%     14.355000   14.320000     0.873450       5.523500      3.237000   \n",
       "75%     17.305000   15.715000     0.887775       5.979750      3.561750   \n",
       "max     21.180000   17.250000     0.918300       6.675000      4.033000   \n",
       "\n",
       "       Asymmetry Coefficient  Kernel Groove Length     Variant  \n",
       "count             210.000000            210.000000  210.000000  \n",
       "mean                3.700201              5.408071    2.000000  \n",
       "std                 1.503557              0.491480    0.818448  \n",
       "min                 0.765100              4.519000    1.000000  \n",
       "25%                 2.561500              5.045000    1.000000  \n",
       "50%                 3.599000              5.223000    2.000000  \n",
       "75%                 4.768750              5.877000    3.000000  \n",
       "max                 8.456000              6.550000    3.000000  "
      ]
     },
     "execution_count": 3,
     "metadata": {},
     "output_type": "execute_result"
    }
   ],
   "source": [
    "columns = [\"Area\", \"Perrimeter\", \"Compactness\", \"Kernel Length\", \"Kernel Width\", \"Asymmetry Coefficient\", \"Kernel Groove Length\", \"Variant\"]\n",
    "data = pd.read_csv(\"seeds_dataset.txt\", delim_whitespace=True, names=columns)  \n",
    "X = data.to_numpy()[:,:-1]\n",
    "Y = data.to_numpy()[:,-1]\n",
    "\n",
    "data.describe()"
   ]
  },
  {
   "cell_type": "code",
   "execution_count": 4,
   "metadata": {},
   "outputs": [
    {
     "name": "stdout",
     "output_type": "stream",
     "text": [
      "KMeans clustering for K=2:\n",
      "\tSSE = 3.6095238095238096\n",
      "\tRand index = 0.7309637730690363\n",
      "KMeans clustering for K=3:\n",
      "\tSSE = 2.738095238095238\n",
      "\tRand index = 0.8743677375256322\n",
      "KMeans clustering for K=4:\n",
      "\tSSE = 2.361904761904762\n",
      "\tRand index = 0.8359990886306676\n",
      "KMeans clustering for K=5:\n",
      "\tSSE = 2.1952380952380954\n",
      "\tRand index = 0.8062884483937115\n"
     ]
    }
   ],
   "source": [
    "for k in [2, 3, 4, 5]:\n",
    "    kmeans = KMeans(n_clusters=k)\n",
    "    kmeans.fit(X)\n",
    "    predicted = kmeans.predict(X)\n",
    "    sse = mean_squared_error(Y, predicted)\n",
    "    rand = rand_score(Y, predicted)\n",
    "    print(f\"KMeans clustering for K={k}:\\n\\tSSE = {sse}\\n\\tRand index = {rand}\")"
   ]
  },
  {
   "cell_type": "markdown",
   "metadata": {},
   "source": [
    "# Question 2\n",
    "In this exercise, you will build a linear predictive model to predict crime rate \n",
    "based on a number of factors. The data is in the “crime-rate” file. You will build \n",
    "the model by writing your own script for gradient search. Experiment with 2-3 \n",
    "learning rates to see the effect of learning rate on the search."
   ]
  },
  {
   "cell_type": "code",
   "execution_count": 5,
   "metadata": {},
   "outputs": [
    {
     "name": "stdout",
     "output_type": "stream",
     "text": [
      "Alpha: 1e-06\n"
     ]
    },
    {
     "data": {
      "image/png": "[encoded data removed]",
      "text/plain": [
       "<Figure size 432x288 with 1 Axes>"
      ]
     },
     "metadata": {
      "needs_background": "light"
     },
     "output_type": "display_data"
    },
    {
     "data": {
      "image/png": "[encoded data removed]",
      "text/plain": [
       "<Figure size 432x288 with 1 Axes>"
      ]
     },
     "metadata": {
      "needs_background": "light"
     },
     "output_type": "display_data"
    },
    {
     "name": "stdout",
     "output_type": "stream",
     "text": [
      "Beta: [ 0.335  3.884  2.8    9.765  2.95  -2.827]\n",
      "Alpha: 2.5e-06\n"
     ]
    },
    {
     "data": {
      "image/png": "[encoded data removed]",
      "text/plain": [
       "<Figure size 432x288 with 1 Axes>"
      ]
     },
     "metadata": {
      "needs_background": "light"
     },
     "output_type": "display_data"
    },
    {
     "data": {
      "image/png": "[encoded data removed]",
      "text/plain": [
       "<Figure size 432x288 with 1 Axes>"
      ]
     },
     "metadata": {
      "needs_background": "light"
     },
     "output_type": "display_data"
    },
    {
     "name": "stdout",
     "output_type": "stream",
     "text": [
      "Beta: [ 0.335  3.937  3.007  9.635  3.153 -4.145]\n"
     ]
    }
   ],
   "source": [
    "data = pd.read_csv(\"CrimeRate.csv\")\n",
    "X = data.to_numpy().astype(np.float64)[:,1:7]\n",
    "Y = data.to_numpy().astype(np.float64)[:,0]\n",
    "rates = [0.000001, 0.0000025]\n",
    "epochs = 100000\n",
    "\n",
    "beta = np.ones(6)\n",
    "expected = np.dot(X, beta)\n",
    "\n",
    "def gradientDescent(X, Y, beta, rate, m=50):\n",
    "    cost = []\n",
    "    for _ in range (epochs):\n",
    "        predicted = np.dot(X, beta)\n",
    "        loss = predicted - Y\n",
    "        mse = np.sum(loss ** 2) / m\n",
    "        cost.append(mse)\n",
    "        gradient = np.dot(X.T, loss) / m\n",
    "        beta = beta - (rate * gradient)\n",
    "    return beta, cost\n",
    "\n",
    "for alpha in rates:\n",
    "    beta_, cost = gradientDescent(X, Y, beta, alpha)\n",
    "\n",
    "    print(f\"Alpha: {alpha}\")\n",
    "    plt.plot(range(epochs), cost)\n",
    "    plt.title(\"Cost vs. Iterations\")\n",
    "    plt.xlabel(\"Iterations\")\n",
    "    plt.ylabel(\"Cost\")\n",
    "    plt.show()\n",
    "\n",
    "    y = np.dot(X, beta_)\n",
    "\n",
    "    plt.scatter(y, Y, color=\"red\", label=\"Predicted\")\n",
    "    plt.scatter(expected, Y, label=\"Expected\")\n",
    "    plt.legend(loc=\"lower right\")\n",
    "    plt.title(\"Expected vs. Predicted\")\n",
    "    plt.show()\n",
    "\n",
    "    print(\"Beta: \" + str(beta_))\n"
   ]
  },
  {
   "cell_type": "markdown",
   "metadata": {},
   "source": [
    "# Question 3\n",
    "A transaction database is given below. Using the A-priori algorithm, determine \n",
    "all frequent item-sets with minimum support of 30%. **Show results at each step \n",
    "of the algorithm.**\n",
    "\n",
    "| TID# | Items Bought | \n",
    "| --- | --- |\n",
    "|1|A, B, D, E|\n",
    "|2|B, C, D|\n",
    "|3|A, B, D, E|\n",
    "|4|A, C, D, E|\n",
    "|5|B, C, D, E|\n",
    "|6|B, D, E|\n",
    "|7|C, D|\n",
    "|8|A, B, C|\n",
    "|9|A, D, E|\n",
    "|10|B, D|"
   ]
  },
  {
   "cell_type": "code",
   "execution_count": 6,
   "metadata": {},
   "outputs": [
    {
     "name": "stdout",
     "output_type": "stream",
     "text": [
      "   A  B  C  D  E\n",
      "0  1  1  0  1  1\n",
      "1  0  1  1  1  0\n",
      "2  1  1  0  1  1\n",
      "3  1  0  1  1  1\n",
      "4  0  1  1  1  1\n",
      "5  0  1  0  1  1\n",
      "6  0  0  1  1  0\n",
      "7  1  1  1  0  0\n",
      "8  1  0  0  1  1\n",
      "9  0  1  0  1  0\n",
      "L1:  {'A': 5, 'B': 7, 'C': 5, 'D': 9, 'E': 6}\n",
      "L2:\n",
      "\t(E, B): 4\n",
      "\t(E, D): 6\n",
      "\t(E, A): 4\n",
      "\t(C, B): 3\n",
      "\t(D, A): 4\n",
      "\t(A, B): 3\n",
      "\t(C, D): 4\n",
      "\t(D, B): 6\n",
      "L3:\n",
      "\t(E, D, A): 4\n",
      "\t(E, D, B): 4\n",
      "No elements in L4\n"
     ]
    }
   ],
   "source": [
    "data = pd.read_csv(\"TransactionDatabase.csv\")\n",
    "print(data)\n",
    "\n",
    "C1 = {}\n",
    "for letter in data.columns:\n",
    "    C1[letter] = np.sum(data[letter])\n",
    "\n",
    "Lvalue = len(data) * 0.3\n",
    "L1 = {x:y for x, y in C1.items() if y >= Lvalue}\n",
    "print(\"L1: \", L1)\n",
    "\n",
    "def occurrences(items):\n",
    "    count = 0\n",
    "\n",
    "    for i in range(len(data)):\n",
    "        hasOccurrence = True\n",
    "        for letter in items:\n",
    "            if data.iloc[i][letter] == 0:\n",
    "                hasOccurrence = False\n",
    "\n",
    "        if hasOccurrence:\n",
    "            count += 1\n",
    "\n",
    "    return count\n",
    "\n",
    "def printL(L):\n",
    "    for x, y in L.items():\n",
    "        print(\"\\t(\" + \", \".join(x) + \"): \" + str(y))\n",
    "\n",
    "C2 = set([frozenset([x, y]) for x in C1 for y in C1 if x != y])\n",
    "L2 = {x:occurrences(x) for x in C2 if occurrences(x) >= 3}\n",
    "print(\"L2:\")\n",
    "printL(L2)\n",
    "\n",
    "C3 = set([frozenset([x, y, z]) for x in C1 for y in C1 for z in C1 if x != y and x != z and y != z])\n",
    "L3 = {x:occurrences(x) for x in C3 if occurrences(x) >= 3}\n",
    "print(\"L3:\")\n",
    "printL(L3)\n",
    "\n",
    "print(\"No elements in L4\")"
   ]
  },
  {
   "cell_type": "markdown",
   "metadata": {},
   "source": [
    "# Question 4\n",
    "Consider the following simple IR situation. We have five keywords and six \n",
    "documents. The term-document matrix is given by the following matrix F.\n",
    "\n",
    "|  | D1 | D2 | D3 | D4 | D5 | D6 |\n",
    "| --- | --- | --- | --- | --- | --- | --- |\n",
    "| K1 |1|0|1|0|0|0|\n",
    "| K2 |0|1|0|0|0|0|\n",
    "| K3 |1|1|0|0|0|0|\n",
    "| K4 |1|0|0|1|1|0|\n",
    "| K5 |0|0|0|1|0|1|\n",
    "\n",
    "1. Obtain the singular value decomposition of F.  \n",
    "2. Reconstruct F using only the top two singular values. \n",
    "3. Show the representation of the documents and the keywords in the 2-D space \n",
    "after SVD application. \n",
    "4. Using the cosine similarity measure in the LSI space, calculate the document \n",
    "similarity matrix. "
   ]
  },
  {
   "cell_type": "code",
   "execution_count": 7,
   "metadata": {},
   "outputs": [
    {
     "name": "stdout",
     "output_type": "stream",
     "text": [
      "1.\n",
      "U:\n",
      "[[ 4.403e-01 -2.962e-01 -5.695e-01  5.774e-01 -2.464e-01]\n",
      " [ 1.293e-01 -3.315e-01  5.870e-01  7.216e-16 -7.272e-01]\n",
      " [ 4.755e-01 -5.111e-01  3.677e-01  4.978e-16  6.144e-01]\n",
      " [ 7.030e-01  3.506e-01 -1.549e-01 -5.774e-01 -1.598e-01]\n",
      " [ 2.627e-01  6.467e-01  4.146e-01  5.774e-01  8.661e-02]]\n",
      "S:[2.163 1.594 1.275 1.    0.394]\n",
      "V:\n",
      "[[ 7.486e-01  2.797e-01  2.036e-01  4.466e-01  3.251e-01  1.215e-01]\n",
      " [-2.865e-01 -5.285e-01 -1.858e-01  6.255e-01  2.199e-01  4.056e-01]\n",
      " [-2.797e-01  7.486e-01 -4.466e-01  2.036e-01 -1.215e-01  3.251e-01]\n",
      " [-4.718e-16  1.017e-15  5.774e-01  2.163e-16 -5.774e-01  5.774e-01]\n",
      " [ 5.285e-01 -2.865e-01 -6.255e-01 -1.858e-01 -4.056e-01  2.199e-01]\n",
      " [-3.578e-17 -9.252e-18  3.578e-17 -5.774e-01  5.774e-01  5.774e-01]]\n"
     ]
    }
   ],
   "source": [
    "F = np.array([\n",
    "    [1, 0, 1, 0, 0, 0],\n",
    "    [0, 1, 0, 0, 0, 0],\n",
    "    [1, 1, 0, 0, 0, 0],\n",
    "    [1, 0, 0, 1, 1, 0],\n",
    "    [0, 0, 0, 1, 0, 1]\n",
    "])\n",
    "\n",
    "u, s, v = np.linalg.svd(F)\n",
    "print(f\"1.\\nU:\\n{u}\\nS:{s}\\nV:\\n{v}\")\n"
   ]
  },
  {
   "cell_type": "code",
   "execution_count": 8,
   "metadata": {},
   "outputs": [
    {
     "name": "stdout",
     "output_type": "stream",
     "text": [
      "2. Reconstructed F:\n",
      "[[ 1.  1.  0.  0.  0. -0.]\n",
      " [ 0.  0.  0. -0. -0. -0.]\n",
      " [ 1.  1.  0. -0.  0. -0.]\n",
      " [ 1.  0.  0.  1.  1.  0.]\n",
      " [ 0. -0. -0.  1.  0.  0.]]\n"
     ]
    }
   ],
   "source": [
    "sigma = np.zeros((5, 6))\n",
    "\n",
    "for i in range(2):\n",
    "    sigma[i, i] = s[i]\n",
    "\n",
    "reconstructed = np.round(np.dot(u, np.dot(sigma, v)))\n",
    "print(f\"2. Reconstructed F:\\n{reconstructed}\")"
   ]
  },
  {
   "cell_type": "code",
   "execution_count": 13,
   "metadata": {},
   "outputs": [
    {
     "name": "stdout",
     "output_type": "stream",
     "text": [
      "3.\n",
      "Terms:\n",
      " [[ 0.952 -0.472]\n",
      " [ 0.28  -0.528]\n",
      " [ 1.028 -0.815]\n",
      " [ 1.52   0.559]\n",
      " [ 0.568  1.031]]\n",
      "Documents:\n",
      " [[ 1.619e+00  4.460e-01]\n",
      " [-6.195e-01 -8.426e-01]\n",
      " [-6.049e-01  1.194e+00]\n",
      " [-1.020e-15  1.622e-15]\n",
      " [ 1.143e+00 -4.567e-01]\n",
      " [-7.738e-17 -1.475e-17]]\n"
     ]
    }
   ],
   "source": [
    "u2 = np.array([u[:, 0]*s[0], u[:, 1]*s[1]]).T\n",
    "v2 = np.array([v[:, 0]*s[0], v[:, 1]*s[1]]).T\n",
    "\n",
    "print(\"3.\")\n",
    "print(\"Terms:\\n\", u2)\n",
    "print(\"Documents:\\n\", v2)"
   ]
  },
  {
   "cell_type": "code",
   "execution_count": 19,
   "metadata": {},
   "outputs": [
    {
     "name": "stdout",
     "output_type": "stream",
     "text": [
      "4.\n",
      " [[1.    0.    0.5   0.408 0.   ]\n",
      " [0.    1.    0.707 0.    0.   ]\n",
      " [0.5   0.707 1.    0.408 0.   ]\n",
      " [0.408 0.    0.408 1.    0.408]\n",
      " [0.    0.    0.    0.408 1.   ]]\n"
     ]
    }
   ],
   "source": [
    "print(\"4.\\n\", cosine_similarity(F))"
   ]
  }
 ],
 "metadata": {
  "interpreter": {
   "hash": "31f2aee4e71d21fbe5cf8b01ff0e069b9275f58929596ceb00d14d90e3e16cd6"
  },
  "kernelspec": {
   "display_name": "Python 3.6.9 64-bit",
   "language": "python",
   "name": "python3"
  },
  "language_info": {
   "codemirror_mode": {
    "name": "ipython",
    "version": 3
   },
   "file_extension": ".py",
   "mimetype": "text/x-python",
   "name": "python",
   "nbconvert_exporter": "python",
   "pygments_lexer": "ipython3",
   "version": "3.6.9"
  },
  "orig_nbformat": 4
 },
 "nbformat": 4,
 "nbformat_minor": 2
}
